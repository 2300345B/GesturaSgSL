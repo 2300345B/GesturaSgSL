{
 "cells": [
  {
   "cell_type": "code",
   "execution_count": null,
   "id": "6239da20",
   "metadata": {},
   "outputs": [],
   "source": [
    "import subprocess\n",
    "import sys\n",
    "\n",
    "weights_path="
   ]
  }
 ],
 "metadata": {
  "language_info": {
   "name": "python"
  }
 },
 "nbformat": 4,
 "nbformat_minor": 5
}
