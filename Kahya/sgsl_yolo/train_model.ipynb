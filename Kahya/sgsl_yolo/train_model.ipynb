{
 "cells": [
  {
   "cell_type": "code",
   "execution_count": 1,
   "id": "b2b03f1b",
   "metadata": {},
   "outputs": [
    {
     "name": "stdout",
     "output_type": "stream",
     "text": [
      "🚀 Starting training...\n",
      "\n",
      "\n",
      "✅ Training complete. Check the folder: runs/train/sgsl_model/\n"
     ]
    }
   ],
   "source": [
    "import subprocess\n",
    "import os\n",
    "\n",
    "# Configuration\n",
    "img_size = 640\n",
    "batch_size = 16\n",
    "epochs = 50\n",
    "dataset_yaml = os.path.abspath(\"dataset.yaml\")\n",
    "weights = os.path.abspath(\"yolov5s.pt\")\n",
    "model_name = \"sgsl_model\"  # Folder name under runs/train\n",
    "\n",
    "print(\"🚀 Starting training...\")\n",
    "\n",
    "try:\n",
    "    result = subprocess.run(\n",
    "        [\n",
    "            \"python\", \"yolov5/train.py\",\n",
    "            \"--img\", str(img_size),\n",
    "            \"--batch\", str(batch_size),\n",
    "            \"--epochs\", str(epochs),\n",
    "            \"--data\", dataset_yaml,\n",
    "            \"--weights\", weights,\n",
    "            \"--name\", model_name\n",
    "        ],\n",
    "        check=True,\n",
    "        capture_output=True,\n",
    "        text=True\n",
    "    )\n",
    "    print(result.stdout)\n",
    "except subprocess.CalledProcessError as e:\n",
    "    print(\"❌ Training failed!\")\n",
    "    print(e.stderr)\n",
    "\n",
    "print(f\"\\n✅ Training complete. Check the folder: runs/train/{model_name}/\")"
   ]
  }
 ],
 "metadata": {
  "kernelspec": {
   "display_name": "yolovenv",
   "language": "python",
   "name": "python3"
  },
  "language_info": {
   "codemirror_mode": {
    "name": "ipython",
    "version": 3
   },
   "file_extension": ".py",
   "mimetype": "text/x-python",
   "name": "python",
   "nbconvert_exporter": "python",
   "pygments_lexer": "ipython3",
   "version": "3.10.18"
  }
 },
 "nbformat": 4,
 "nbformat_minor": 5
}
